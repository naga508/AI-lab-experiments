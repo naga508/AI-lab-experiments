{
 "cells": [
  {
   "cell_type": "markdown",
   "metadata": {},
   "source": [
    "Tower of Hanoi is a mathematical puzzle where we have three rods and n disks. The objective of the puzzle is to move the entire stack to another rod, obeying the following simple rules: \n",
    "1) Only one disk can be moved at a time. \n",
    "2) Each move consists of taking the upper disk from one of the stacks and placing it on top of another stack i.e. a disk can only be moved if it is the uppermost disk on a stack. \n",
    "3) No disk may be placed on top of a smaller disk.\n",
    "Note: Transferring the top n-1 disks from source rod to Auxiliary rod can again be thought of as a fresh problem and can be solved in the same manner."
   ]
  },
  {
   "cell_type": "code",
   "execution_count": 4,
   "metadata": {},
   "outputs": [
    {
     "name": "stdout",
     "output_type": "stream",
     "text": [
      "Move disc 1 from pole A to pole C\n",
      "Move disc 2 from pole A to pole B\n",
      "Move disc 1 from pole C to pole B\n",
      "Move disc 3 from pole A to pole C\n",
      "Move disc 1 from pole B to pole A\n",
      "Move disc 2 from pole B to pole C\n",
      "Move disc 1 from pole A to pole C\n"
     ]
    }
   ],
   "source": [
    "def TowerOfHanoi(n , s_pole, d_pole, i_pole):           \n",
    "    if n == 1:\n",
    "        print(\"Move disc 1 from pole\",s_pole,\"to pole\",d_pole)\n",
    "        return\n",
    "    TowerOfHanoi(n-1, s_pole, i_pole, d_pole)\n",
    "    print(\"Move disc\",n,\"from pole\",s_pole,\"to pole\",d_pole)\n",
    "    TowerOfHanoi(n-1, i_pole, d_pole, s_pole)\n",
    " \n",
    "n = 3\n",
    "TowerOfHanoi(n, 'A', 'C', 'B')"
   ]
  },
  {
   "cell_type": "code",
   "execution_count": null,
   "metadata": {},
   "outputs": [],
   "source": []
  }
 ],
 "metadata": {
  "kernelspec": {
   "display_name": "Python 3",
   "language": "python",
   "name": "python3"
  },
  "language_info": {
   "codemirror_mode": {
    "name": "ipython",
    "version": 3
   },
   "file_extension": ".py",
   "mimetype": "text/x-python",
   "name": "python",
   "nbconvert_exporter": "python",
   "pygments_lexer": "ipython3",
   "version": "3.8.5"
  }
 },
 "nbformat": 4,
 "nbformat_minor": 2
}
