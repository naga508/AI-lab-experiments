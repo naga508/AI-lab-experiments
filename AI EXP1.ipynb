{
 "cells": [
  {
   "cell_type": "markdown",
   "metadata": {},
   "source": [
    "A person has 3000 bananas and a camel. The person wants to transport maximum number of bananas to a destination which is 1000 miles away, using only the camel as a mode of transportation. The camel cannot carry more than 1000 bananas at a time and eats a banana every mile it travels. What is the maximum number of bananas that can be transferred to the destination using only camel (no other mode of transportation is allowed)? "
   ]
  },
  {
   "cell_type": "code",
   "execution_count": 1,
   "metadata": {},
   "outputs": [
    {
     "name": "stdout",
     "output_type": "stream",
     "text": [
      "Enter no. of bananas at starting: 3000\n",
      "Enter distance you want to cover: 1000\n",
      "Enter max load capacity of your camel: 1000\n",
      "533\n"
     ]
    }
   ],
   "source": [
    "total=int(input('Enter no. of bananas at starting: '))\n",
    "distance=int(input('Enter distance you want to cover: '))\n",
    "load_capacity=int(input('Enter max load capacity of your camel: '))\n",
    "lose=0\n",
    "start=total\n",
    "for i in range(distance):\n",
    "    while start>0:\n",
    "        start=start-load_capacity\n",
    "\n",
    "        if start==1:\n",
    "            lose=lose-1\n",
    "        lose=lose+2\n",
    "\n",
    "    lose=lose-1\n",
    "    start=total-lose\n",
    "    if start==0:\n",
    "        break\n",
    "print(start)"
   ]
  },
  {
   "cell_type": "code",
   "execution_count": 5,
   "metadata": {},
   "outputs": [
    {
     "ename": "TypeError",
     "evalue": "WGCPrinter() takes no arguments",
     "output_type": "error",
     "traceback": [
      "\u001b[1;31m---------------------------------------------------------------------------\u001b[0m",
      "\u001b[1;31mTypeError\u001b[0m                                 Traceback (most recent call last)",
      "\u001b[1;32m<ipython-input-5-61daddc74f40>\u001b[0m in \u001b[0;36m<module>\u001b[1;34m\u001b[0m\n\u001b[0;32m     99\u001b[0m \u001b[1;33m\u001b[0m\u001b[0m\n\u001b[0;32m    100\u001b[0m \u001b[1;33m\u001b[0m\u001b[0m\n\u001b[1;32m--> 101\u001b[1;33m \u001b[0mprinter\u001b[0m \u001b[1;33m=\u001b[0m \u001b[0mWGCPrinter\u001b[0m\u001b[1;33m(\u001b[0m\u001b[1;34m\" \"\u001b[0m\u001b[1;33m)\u001b[0m\u001b[1;33m\u001b[0m\u001b[1;33m\u001b[0m\u001b[0m\n\u001b[0m\u001b[0;32m    102\u001b[0m \u001b[1;32mfor\u001b[0m \u001b[0ms\u001b[0m \u001b[1;32min\u001b[0m \u001b[0mRun\u001b[0m\u001b[1;33m(\u001b[0m\u001b[1;33m)\u001b[0m\u001b[1;33m.\u001b[0m\u001b[0mgo\u001b[0m\u001b[1;33m(\u001b[0m\u001b[0mWGC\u001b[0m\u001b[1;33m(\u001b[0m\u001b[1;33m)\u001b[0m\u001b[1;33m)\u001b[0m\u001b[1;33m:\u001b[0m \u001b[0mprinter\u001b[0m\u001b[1;33m.\u001b[0m\u001b[0mprint_state\u001b[0m\u001b[1;33m(\u001b[0m\u001b[0ms\u001b[0m\u001b[1;33m)\u001b[0m\u001b[1;33m\u001b[0m\u001b[1;33m\u001b[0m\u001b[0m\n",
      "\u001b[1;31mTypeError\u001b[0m: WGCPrinter() takes no arguments"
     ]
    }
   ],
   "source": [
    "class WGC:\n",
    "    F, W, G, C = 0, 1, 2, 3\n",
    "\n",
    "    start, goal = [[F, W, G, C], [], []]  ,  [[], [], [F, W, G, C]]\n",
    "\n",
    "    def _init_(self, state = None):\n",
    "        self.state = state or self.start[:]\n",
    "\n",
    "    def won(self): return self.state == self.goal\n",
    "\n",
    "    def successors(self):\n",
    "        for move in [[0, 1], [1, 0], [1, 2], [2, 1]]:\n",
    "            for possibility in self.move_source_dest(*move):\n",
    "                if not self.invalid(possibility): yield WGC(possibility)\n",
    "\n",
    "    def move_source_dest(self, s, d):\n",
    "        source_orig = self.state[s][:]\n",
    "        if WGC.F in source_orig: # move one\n",
    "            state = self.state[:]\n",
    "            state[s], state[d] = self.state[s][:], self.state[d][:]\n",
    "            state[s].remove(WGC.F)\n",
    "            state[d].insert(0, WGC.F)\n",
    "            yield state\n",
    "        if WGC.F in source_orig and len(source_orig) >= 2: # move two\n",
    "            source_orig.remove(WGC.F)\n",
    "            for i in range(len(source_orig)):\n",
    "                state = self.state[:]\n",
    "                state[s], state[d] = source_orig[:], self.state[d][:]\n",
    "                state[d] += [WGC.F, state[s].pop(i)]\n",
    "                state[d].sort()\n",
    "                yield state\n",
    "\n",
    "    def invalid(self, s):\n",
    "        # boat has two max\n",
    "        if len(s[1]) > 2: return True\n",
    "        for i in range(3):\n",
    "            # goat must not be left alone with cabbage\n",
    "            if WGC.G in s[i] and WGC.C in s[i] and not WGC.F in s[i]:\n",
    "                return True\n",
    "            # wolf must not be left alone with goat\n",
    "            if WGC.W in s[i] and WGC.G in s[i] and not WGC.F in s[i]:\n",
    "                return True\n",
    "\n",
    "\n",
    "class Run:\n",
    "    history, won = [], False\n",
    "\n",
    "    def go(self, problem):\n",
    "        self.next(problem, 0)\n",
    "        return self.history\n",
    "\n",
    "    def next(self, problem, depth):\n",
    "        self.history.append(problem.state)\n",
    "        if problem.won():\n",
    "            self.won = True\n",
    "        else:\n",
    "            for s in problem.successors():\n",
    "                if not self.won:\n",
    "                    self.history = self.history[:depth+1]\n",
    "                    if not s.state in self.history: self.next(s, depth+1)\n",
    "\n",
    "\n",
    "#for s in Run().go(WGC()): print s\n",
    "\n",
    "\n",
    "class WGCPrinter:\n",
    "    def _init_(self, n):\n",
    "        with open(n) as f: self.symbols = f.read().split('\\n\\n')\n",
    "        for i in range(len(self.symbols)):\n",
    "            self.symbols[i] = self.symbols[i].split('\\n')\n",
    "            self.symbols[i].reverse()\n",
    "\n",
    "    def width(self, symbol):\n",
    "        return max(len(s) for s in symbol)\n",
    "\n",
    "    def total_width(self):\n",
    "        return sum(self.width(s) +2 for s in self.symbols)\n",
    "\n",
    "    def max_height(self):\n",
    "        return max(len(s) for s in self.symbols)\n",
    "\n",
    "    def print_state(self, state):\n",
    "        lines = []\n",
    "        for i in range(-1, self.max_height()+1): # each row of ascii prints out\n",
    "            row = \"\"\n",
    "            for p in range(len(state)): # position of the state (bank, boat...)\n",
    "                pos = \"\"\n",
    "                g = '-' if (i == -1 or i == self.max_height()) and (p != 0 and p != len(state)-1) else ' '\n",
    "                for sym in state[p]: # symbol in the position (wolf, goat...)\n",
    "                    s = self.symbols[sym]\n",
    "                    pos += g+(s[i] if s[i:i+1] else '').ljust(self.width(s),g)+g\n",
    "                row += g * (self.total_width() - len(pos)) + pos\n",
    "                br = '/' if i == 0 else ('\\\\' if i == self.max_height()-1 else ('~' if i == -1 or i == self.max_height() else '|'))\n",
    "                bl = '\\\\' if i == 0 else ('/' if i == self.max_height()-1 else ('~' if i == -1 or i == self.max_height() else '|'))\n",
    "                if p == len(state)-2: row += br + \"~(\"\n",
    "                if p == 0: row += \")~\" + bl\n",
    "            lines.insert(0, row)\n",
    "        for line in lines: print(line)\n",
    "\n",
    "\n",
    "printer = WGCPrinter(\" \")\n",
    "for s in Run().go(WGC()): printer.print_state(s)"
   ]
  },
  {
   "cell_type": "code",
   "execution_count": null,
   "metadata": {},
   "outputs": [],
   "source": []
  }
 ],
 "metadata": {
  "kernelspec": {
   "display_name": "Python 3",
   "language": "python",
   "name": "python3"
  },
  "language_info": {
   "codemirror_mode": {
    "name": "ipython",
    "version": 3
   },
   "file_extension": ".py",
   "mimetype": "text/x-python",
   "name": "python",
   "nbconvert_exporter": "python",
   "pygments_lexer": "ipython3",
   "version": "3.8.5"
  }
 },
 "nbformat": 4,
 "nbformat_minor": 4
}
